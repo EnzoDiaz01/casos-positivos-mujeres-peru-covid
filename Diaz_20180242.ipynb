{
 "cells": [
  {
   "cell_type": "markdown",
   "metadata": {},
   "source": [
    "# TRABAJO FINAL "
   ]
  },
  {
   "cell_type": "markdown",
   "metadata": {},
   "source": [
    "Alumno: Enzo Alexander Diaz Uribe "
   ]
  },
  {
   "cell_type": "markdown",
   "metadata": {},
   "source": [
    "Código: 20180242"
   ]
  },
  {
   "cell_type": "code",
   "execution_count": 15,
   "metadata": {},
   "outputs": [],
   "source": [
    "import pandas as pd\n",
    "import numpy as np\n",
    "import matplotlib.pyplot as plt\n",
    "import os"
   ]
  },
  {
   "cell_type": "code",
   "execution_count": 42,
   "metadata": {},
   "outputs": [],
   "source": [
    "path = \"C:\\@PUCP\\COVID2021\"\n",
    "os.chdir(path)"
   ]
  },
  {
   "cell_type": "code",
   "execution_count": 43,
   "metadata": {},
   "outputs": [],
   "source": [
    "plt.rcParams.update({'font.size': 17})"
   ]
  },
  {
   "cell_type": "markdown",
   "metadata": {},
   "source": [
    "La base de datos utilizada fue extraida de los Datos Abiertos Minsa y Gestión del Conocimiento en Covid-19 "
   ]
  },
  {
   "cell_type": "code",
   "execution_count": 44,
   "metadata": {},
   "outputs": [],
   "source": [
    "df_posi = pd.read_csv( \"positivos_covid.csv\", sep = \";\" ,encoding = 'UTF-8')\n",
    "df_fall = pd.read_csv(\"fallecidos_covid.csv\", sep = \";\" ,encoding = 'latin')"
   ]
  },
  {
   "cell_type": "markdown",
   "metadata": {},
   "source": [
    "Se uso latin para que las palabras reconozcan la letra ñ. "
   ]
  },
  {
   "cell_type": "markdown",
   "metadata": {},
   "source": [
    "A continuación, se analizará la base de datos"
   ]
  },
  {
   "cell_type": "code",
   "execution_count": 45,
   "metadata": {},
   "outputs": [
    {
     "data": {
      "text/plain": [
       "FECHA_CORTE              int64\n",
       "UUID                    object\n",
       "FECHA_FALLECIMIENTO      int64\n",
       "EDAD_DECLARADA           int64\n",
       "SEXO                    object\n",
       "FECHA_NAC              float64\n",
       "DEPARTAMENTO            object\n",
       "PROVINCIA               object\n",
       "DISTRITO                object\n",
       "dtype: object"
      ]
     },
     "execution_count": 45,
     "metadata": {},
     "output_type": "execute_result"
    }
   ],
   "source": [
    "df_fall.dtypes"
   ]
  },
  {
   "cell_type": "code",
   "execution_count": 46,
   "metadata": {},
   "outputs": [
    {
     "data": {
      "text/plain": [
       "FECHA_CORTE          int64\n",
       "UUID                object\n",
       "DEPARTAMENTO        object\n",
       "PROVINCIA           object\n",
       "DISTRITO            object\n",
       "METODODX            object\n",
       "EDAD               float64\n",
       "SEXO                object\n",
       "FECHA_RESULTADO    float64\n",
       "dtype: object"
      ]
     },
     "execution_count": 46,
     "metadata": {},
     "output_type": "execute_result"
    }
   ],
   "source": [
    "df_posi.dtypes"
   ]
  },
  {
   "cell_type": "markdown",
   "metadata": {},
   "source": [
    "Por lo que se puede obervar, existen 9 variables aquí "
   ]
  },
  {
   "cell_type": "markdown",
   "metadata": {},
   "source": [
    "Se continua con la limpia de la base de datos, solo se utilizará la base de datos de positivos covid "
   ]
  },
  {
   "cell_type": "code",
   "execution_count": 47,
   "metadata": {},
   "outputs": [
    {
     "data": {
      "text/plain": [
       "(1533121, 9)"
      ]
     },
     "execution_count": 47,
     "metadata": {},
     "output_type": "execute_result"
    }
   ],
   "source": [
    "df_posi.shape"
   ]
  },
  {
   "cell_type": "code",
   "execution_count": 48,
   "metadata": {},
   "outputs": [
    {
     "data": {
      "text/plain": [
       "FECHA_CORTE           0\n",
       "UUID                  0\n",
       "DEPARTAMENTO          0\n",
       "PROVINCIA             0\n",
       "DISTRITO              0\n",
       "METODODX              0\n",
       "EDAD                322\n",
       "SEXO                  1\n",
       "FECHA_RESULTADO    2023\n",
       "dtype: int64"
      ]
     },
     "execution_count": 48,
     "metadata": {},
     "output_type": "execute_result"
    }
   ],
   "source": [
    "df_posi.isnull().sum(axis = 0)"
   ]
  },
  {
   "cell_type": "code",
   "execution_count": 49,
   "metadata": {},
   "outputs": [],
   "source": [
    "df_posi = df_posi.dropna()"
   ]
  },
  {
   "cell_type": "code",
   "execution_count": 50,
   "metadata": {},
   "outputs": [
    {
     "data": {
      "text/plain": [
       "FECHA_CORTE        0\n",
       "UUID               0\n",
       "DEPARTAMENTO       0\n",
       "PROVINCIA          0\n",
       "DISTRITO           0\n",
       "METODODX           0\n",
       "EDAD               0\n",
       "SEXO               0\n",
       "FECHA_RESULTADO    0\n",
       "dtype: int64"
      ]
     },
     "execution_count": 50,
     "metadata": {},
     "output_type": "execute_result"
    }
   ],
   "source": [
    "df_posi.isnull().sum(axis = 0)"
   ]
  },
  {
   "cell_type": "markdown",
   "metadata": {},
   "source": [
    "De esta forma, se realizo la limpieza de la base con la eliminación de los missings como se pudo observar anteriormente."
   ]
  },
  {
   "cell_type": "markdown",
   "metadata": {},
   "source": [
    "## Gráfico "
   ]
  },
  {
   "cell_type": "markdown",
   "metadata": {},
   "source": [
    "En esta ocasión, el gráfico será de pie o redondo. "
   ]
  },
  {
   "cell_type": "markdown",
   "metadata": {},
   "source": [
    "Para poder realizar el gráfico como se quiere (de mujeres que dieron positivos en la prueba el 2021 a nivel departamental), se necesita realizar algunos cambios más a la base de datos de positivos. "
   ]
  },
  {
   "cell_type": "markdown",
   "metadata": {},
   "source": [
    "Los siguientes cambios no completamente necesarios, pero si se pueden hacerlos si se quiere continuar con un análisis más detallado "
   ]
  },
  {
   "cell_type": "code",
   "execution_count": 51,
   "metadata": {},
   "outputs": [],
   "source": [
    "df_posi[\"FECHA_RESULTADO\"] = df_posi[\"FECHA_RESULTADO\"].astype(int).astype(str)\n",
    "df_posi[\"FECHA\"] =  pd.to_datetime( df_posi[\"FECHA_RESULTADO\"],\n",
    "                                         format= '%Y%m%d', errors = \"coerce\")"
   ]
  },
  {
   "cell_type": "code",
   "execution_count": 52,
   "metadata": {},
   "outputs": [],
   "source": [
    "df_posi[\"EDAD\"] = df_posi[\"EDAD\"].astype(int)"
   ]
  },
  {
   "cell_type": "markdown",
   "metadata": {},
   "source": [
    "Se realizo lo siguiente para crear la dummy de la variable sexo "
   ]
  },
  {
   "cell_type": "code",
   "execution_count": 53,
   "metadata": {},
   "outputs": [],
   "source": [
    "df_posi = pd.get_dummies(df_posi, columns = ['METODODX',\"SEXO\"])"
   ]
  },
  {
   "cell_type": "code",
   "execution_count": 55,
   "metadata": {},
   "outputs": [
    {
     "data": {
      "text/plain": [
       "FECHA_CORTE                 int64\n",
       "UUID                       object\n",
       "DEPARTAMENTO               object\n",
       "PROVINCIA                  object\n",
       "DISTRITO                   object\n",
       "EDAD                        int32\n",
       "FECHA_RESULTADO            object\n",
       "FECHA              datetime64[ns]\n",
       "METODODX_AG                 uint8\n",
       "METODODX_PCR                uint8\n",
       "METODODX_PR                 uint8\n",
       "SEXO_FEMENINO               uint8\n",
       "SEXO_MASCULINO              uint8\n",
       "dtype: object"
      ]
     },
     "execution_count": 55,
     "metadata": {},
     "output_type": "execute_result"
    }
   ],
   "source": [
    "df_posi.dtypes"
   ]
  },
  {
   "cell_type": "code",
   "execution_count": 57,
   "metadata": {},
   "outputs": [],
   "source": [
    "df_posi_junto = df_posi.groupby(['DEPARTAMENTO']).agg( \n",
    "    {'METODODX_AG':['sum'],\n",
    "     'METODODX_PCR':['sum'],\n",
    "     'METODODX_PR':['sum'],\n",
    "     'SEXO_FEMENINO':['sum'],\n",
    "     'SEXO_MASCULINO' : ['sum']} )\n",
    "\n",
    "df_posi_junto.columns = [\"antigenos\",\"molecular\",\"prueba_rapida\",\"femenino\",\"masculino\"]\n",
    "df_posi_junto.reset_index(inplace=True)"
   ]
  },
  {
   "cell_type": "code",
   "execution_count": 58,
   "metadata": {},
   "outputs": [
    {
     "data": {
      "text/html": [
       "<div>\n",
       "<style scoped>\n",
       "    .dataframe tbody tr th:only-of-type {\n",
       "        vertical-align: middle;\n",
       "    }\n",
       "\n",
       "    .dataframe tbody tr th {\n",
       "        vertical-align: top;\n",
       "    }\n",
       "\n",
       "    .dataframe thead th {\n",
       "        text-align: right;\n",
       "    }\n",
       "</style>\n",
       "<table border=\"1\" class=\"dataframe\">\n",
       "  <thead>\n",
       "    <tr style=\"text-align: right;\">\n",
       "      <th></th>\n",
       "      <th>DEPARTAMENTO</th>\n",
       "      <th>antigenos</th>\n",
       "      <th>molecular</th>\n",
       "      <th>prueba_rapida</th>\n",
       "      <th>femenino</th>\n",
       "      <th>masculino</th>\n",
       "    </tr>\n",
       "  </thead>\n",
       "  <tbody>\n",
       "    <tr>\n",
       "      <th>0</th>\n",
       "      <td>AMAZONAS</td>\n",
       "      <td>1658.0</td>\n",
       "      <td>3808.0</td>\n",
       "      <td>17595.0</td>\n",
       "      <td>12222.0</td>\n",
       "      <td>10839.0</td>\n",
       "    </tr>\n",
       "    <tr>\n",
       "      <th>1</th>\n",
       "      <td>ANCASH</td>\n",
       "      <td>12011.0</td>\n",
       "      <td>11718.0</td>\n",
       "      <td>26220.0</td>\n",
       "      <td>25185.0</td>\n",
       "      <td>24764.0</td>\n",
       "    </tr>\n",
       "    <tr>\n",
       "      <th>2</th>\n",
       "      <td>APURIMAC</td>\n",
       "      <td>2698.0</td>\n",
       "      <td>3377.0</td>\n",
       "      <td>7429.0</td>\n",
       "      <td>6727.0</td>\n",
       "      <td>6777.0</td>\n",
       "    </tr>\n",
       "    <tr>\n",
       "      <th>3</th>\n",
       "      <td>AREQUIPA</td>\n",
       "      <td>5674.0</td>\n",
       "      <td>14120.0</td>\n",
       "      <td>45386.0</td>\n",
       "      <td>30835.0</td>\n",
       "      <td>34345.0</td>\n",
       "    </tr>\n",
       "    <tr>\n",
       "      <th>4</th>\n",
       "      <td>AYACUCHO</td>\n",
       "      <td>3683.0</td>\n",
       "      <td>5054.0</td>\n",
       "      <td>13988.0</td>\n",
       "      <td>11515.0</td>\n",
       "      <td>11210.0</td>\n",
       "    </tr>\n",
       "    <tr>\n",
       "      <th>5</th>\n",
       "      <td>CAJAMARCA</td>\n",
       "      <td>4918.0</td>\n",
       "      <td>9891.0</td>\n",
       "      <td>25236.0</td>\n",
       "      <td>20211.0</td>\n",
       "      <td>19834.0</td>\n",
       "    </tr>\n",
       "    <tr>\n",
       "      <th>6</th>\n",
       "      <td>CALLAO</td>\n",
       "      <td>9378.0</td>\n",
       "      <td>25654.0</td>\n",
       "      <td>35152.0</td>\n",
       "      <td>33220.0</td>\n",
       "      <td>36964.0</td>\n",
       "    </tr>\n",
       "    <tr>\n",
       "      <th>7</th>\n",
       "      <td>CUSCO</td>\n",
       "      <td>8244.0</td>\n",
       "      <td>12632.0</td>\n",
       "      <td>22105.0</td>\n",
       "      <td>21017.0</td>\n",
       "      <td>21964.0</td>\n",
       "    </tr>\n",
       "    <tr>\n",
       "      <th>8</th>\n",
       "      <td>HUANCAVELICA</td>\n",
       "      <td>1491.0</td>\n",
       "      <td>1604.0</td>\n",
       "      <td>7644.0</td>\n",
       "      <td>5417.0</td>\n",
       "      <td>5322.0</td>\n",
       "    </tr>\n",
       "    <tr>\n",
       "      <th>9</th>\n",
       "      <td>HUANUCO</td>\n",
       "      <td>3189.0</td>\n",
       "      <td>3085.0</td>\n",
       "      <td>20321.0</td>\n",
       "      <td>13945.0</td>\n",
       "      <td>12650.0</td>\n",
       "    </tr>\n",
       "    <tr>\n",
       "      <th>10</th>\n",
       "      <td>ICA</td>\n",
       "      <td>6458.0</td>\n",
       "      <td>6846.0</td>\n",
       "      <td>31009.0</td>\n",
       "      <td>22394.0</td>\n",
       "      <td>21919.0</td>\n",
       "    </tr>\n",
       "    <tr>\n",
       "      <th>11</th>\n",
       "      <td>JUNIN</td>\n",
       "      <td>6694.0</td>\n",
       "      <td>8188.0</td>\n",
       "      <td>35144.0</td>\n",
       "      <td>25459.0</td>\n",
       "      <td>24567.0</td>\n",
       "    </tr>\n",
       "    <tr>\n",
       "      <th>12</th>\n",
       "      <td>LA LIBERTAD</td>\n",
       "      <td>8250.0</td>\n",
       "      <td>9661.0</td>\n",
       "      <td>35385.0</td>\n",
       "      <td>26142.0</td>\n",
       "      <td>27154.0</td>\n",
       "    </tr>\n",
       "    <tr>\n",
       "      <th>13</th>\n",
       "      <td>LAMBAYEQUE</td>\n",
       "      <td>1909.0</td>\n",
       "      <td>8539.0</td>\n",
       "      <td>31455.0</td>\n",
       "      <td>21177.0</td>\n",
       "      <td>20726.0</td>\n",
       "    </tr>\n",
       "    <tr>\n",
       "      <th>14</th>\n",
       "      <td>LIMA</td>\n",
       "      <td>87240.0</td>\n",
       "      <td>286235.0</td>\n",
       "      <td>294671.0</td>\n",
       "      <td>310837.0</td>\n",
       "      <td>357309.0</td>\n",
       "    </tr>\n",
       "    <tr>\n",
       "      <th>15</th>\n",
       "      <td>LIMA REGION</td>\n",
       "      <td>11079.0</td>\n",
       "      <td>10627.0</td>\n",
       "      <td>28982.0</td>\n",
       "      <td>24810.0</td>\n",
       "      <td>25878.0</td>\n",
       "    </tr>\n",
       "    <tr>\n",
       "      <th>16</th>\n",
       "      <td>LORETO</td>\n",
       "      <td>3776.0</td>\n",
       "      <td>6533.0</td>\n",
       "      <td>25365.0</td>\n",
       "      <td>18223.0</td>\n",
       "      <td>17451.0</td>\n",
       "    </tr>\n",
       "    <tr>\n",
       "      <th>17</th>\n",
       "      <td>MADRE DE DIOS</td>\n",
       "      <td>1124.0</td>\n",
       "      <td>1191.0</td>\n",
       "      <td>9236.0</td>\n",
       "      <td>5787.0</td>\n",
       "      <td>5764.0</td>\n",
       "    </tr>\n",
       "    <tr>\n",
       "      <th>18</th>\n",
       "      <td>MOQUEGUA</td>\n",
       "      <td>881.0</td>\n",
       "      <td>3018.0</td>\n",
       "      <td>17691.0</td>\n",
       "      <td>9700.0</td>\n",
       "      <td>11890.0</td>\n",
       "    </tr>\n",
       "    <tr>\n",
       "      <th>19</th>\n",
       "      <td>PASCO</td>\n",
       "      <td>1691.0</td>\n",
       "      <td>676.0</td>\n",
       "      <td>8514.0</td>\n",
       "      <td>5500.0</td>\n",
       "      <td>5381.0</td>\n",
       "    </tr>\n",
       "    <tr>\n",
       "      <th>20</th>\n",
       "      <td>PIURA</td>\n",
       "      <td>8189.0</td>\n",
       "      <td>4929.0</td>\n",
       "      <td>43874.0</td>\n",
       "      <td>28328.0</td>\n",
       "      <td>28664.0</td>\n",
       "    </tr>\n",
       "    <tr>\n",
       "      <th>21</th>\n",
       "      <td>PUNO</td>\n",
       "      <td>2173.0</td>\n",
       "      <td>3656.0</td>\n",
       "      <td>20068.0</td>\n",
       "      <td>12703.0</td>\n",
       "      <td>13194.0</td>\n",
       "    </tr>\n",
       "    <tr>\n",
       "      <th>22</th>\n",
       "      <td>SAN MARTIN</td>\n",
       "      <td>2653.0</td>\n",
       "      <td>5707.0</td>\n",
       "      <td>25028.0</td>\n",
       "      <td>17742.0</td>\n",
       "      <td>15646.0</td>\n",
       "    </tr>\n",
       "    <tr>\n",
       "      <th>23</th>\n",
       "      <td>TACNA</td>\n",
       "      <td>3098.0</td>\n",
       "      <td>3583.0</td>\n",
       "      <td>15136.0</td>\n",
       "      <td>10793.0</td>\n",
       "      <td>11024.0</td>\n",
       "    </tr>\n",
       "    <tr>\n",
       "      <th>24</th>\n",
       "      <td>TUMBES</td>\n",
       "      <td>1556.0</td>\n",
       "      <td>2972.0</td>\n",
       "      <td>8777.0</td>\n",
       "      <td>6719.0</td>\n",
       "      <td>6586.0</td>\n",
       "    </tr>\n",
       "    <tr>\n",
       "      <th>25</th>\n",
       "      <td>UCAYALI</td>\n",
       "      <td>3201.0</td>\n",
       "      <td>1832.0</td>\n",
       "      <td>21312.0</td>\n",
       "      <td>13936.0</td>\n",
       "      <td>12409.0</td>\n",
       "    </tr>\n",
       "  </tbody>\n",
       "</table>\n",
       "</div>"
      ],
      "text/plain": [
       "     DEPARTAMENTO  antigenos  molecular  prueba_rapida  femenino  masculino\n",
       "0        AMAZONAS     1658.0     3808.0        17595.0   12222.0    10839.0\n",
       "1          ANCASH    12011.0    11718.0        26220.0   25185.0    24764.0\n",
       "2        APURIMAC     2698.0     3377.0         7429.0    6727.0     6777.0\n",
       "3        AREQUIPA     5674.0    14120.0        45386.0   30835.0    34345.0\n",
       "4        AYACUCHO     3683.0     5054.0        13988.0   11515.0    11210.0\n",
       "5       CAJAMARCA     4918.0     9891.0        25236.0   20211.0    19834.0\n",
       "6          CALLAO     9378.0    25654.0        35152.0   33220.0    36964.0\n",
       "7           CUSCO     8244.0    12632.0        22105.0   21017.0    21964.0\n",
       "8    HUANCAVELICA     1491.0     1604.0         7644.0    5417.0     5322.0\n",
       "9         HUANUCO     3189.0     3085.0        20321.0   13945.0    12650.0\n",
       "10            ICA     6458.0     6846.0        31009.0   22394.0    21919.0\n",
       "11          JUNIN     6694.0     8188.0        35144.0   25459.0    24567.0\n",
       "12    LA LIBERTAD     8250.0     9661.0        35385.0   26142.0    27154.0\n",
       "13     LAMBAYEQUE     1909.0     8539.0        31455.0   21177.0    20726.0\n",
       "14           LIMA    87240.0   286235.0       294671.0  310837.0   357309.0\n",
       "15    LIMA REGION    11079.0    10627.0        28982.0   24810.0    25878.0\n",
       "16         LORETO     3776.0     6533.0        25365.0   18223.0    17451.0\n",
       "17  MADRE DE DIOS     1124.0     1191.0         9236.0    5787.0     5764.0\n",
       "18       MOQUEGUA      881.0     3018.0        17691.0    9700.0    11890.0\n",
       "19          PASCO     1691.0      676.0         8514.0    5500.0     5381.0\n",
       "20          PIURA     8189.0     4929.0        43874.0   28328.0    28664.0\n",
       "21           PUNO     2173.0     3656.0        20068.0   12703.0    13194.0\n",
       "22     SAN MARTIN     2653.0     5707.0        25028.0   17742.0    15646.0\n",
       "23          TACNA     3098.0     3583.0        15136.0   10793.0    11024.0\n",
       "24         TUMBES     1556.0     2972.0         8777.0    6719.0     6586.0\n",
       "25        UCAYALI     3201.0     1832.0        21312.0   13936.0    12409.0"
      ]
     },
     "execution_count": 58,
     "metadata": {},
     "output_type": "execute_result"
    }
   ],
   "source": [
    "df_posi_junto"
   ]
  },
  {
   "cell_type": "markdown",
   "metadata": {},
   "source": [
    "Ahora, para solo contar con las mujeres de la lista y sin Lima, se realiza lo siguiente. "
   ]
  },
  {
   "cell_type": "code",
   "execution_count": 59,
   "metadata": {},
   "outputs": [],
   "source": [
    "condicion =(df_posi_junto[\"DEPARTAMENTO\"] != \"LIMA\" )\n",
    "\n",
    "\n",
    "df_posi_junto_f = df_posi_junto[ condicion ]\n",
    "df_posi_dep = df_posi_junto_f.groupby([\"DEPARTAMENTO\"]).sum()\n",
    "df_posi_dep.reset_index(inplace=True)"
   ]
  },
  {
   "cell_type": "markdown",
   "metadata": {},
   "source": [
    "Solo con femenino"
   ]
  },
  {
   "cell_type": "code",
   "execution_count": 61,
   "metadata": {},
   "outputs": [],
   "source": [
    "df_posi_dep[\"mujeres\"] = df_posi_dep[\"femenino\"]"
   ]
  },
  {
   "cell_type": "markdown",
   "metadata": {},
   "source": [
    "Rankeamos a los departamentos por numero de infectados\n"
   ]
  },
  {
   "cell_type": "code",
   "execution_count": 63,
   "metadata": {},
   "outputs": [],
   "source": [
    "df_posi_dep[\"rank\"] = df_posi_dep[\"mujeres\"].rank(ascending = False)"
   ]
  },
  {
   "cell_type": "code",
   "execution_count": null,
   "metadata": {},
   "outputs": [],
   "source": [
    "Se corrige en función a los 10 primeros con mas infectados"
   ]
  },
  {
   "cell_type": "code",
   "execution_count": 65,
   "metadata": {},
   "outputs": [],
   "source": [
    "df_posi_dep[\"DEPARTAMENTO_CORREGIDO\"] = df_posi_dep.apply(lambda x: x[\"DEPARTAMENTO\"] if x[\"rank\"] < 10 else \"OTROS\",axis = 1 )"
   ]
  },
  {
   "cell_type": "code",
   "execution_count": 66,
   "metadata": {},
   "outputs": [],
   "source": [
    "df_posi_dep2= df_posi_dep[[\"DEPARTAMENTO_CORREGIDO\",\"mujeres\"]].groupby(\"DEPARTAMENTO_CORREGIDO\").sum().reset_index()"
   ]
  },
  {
   "cell_type": "code",
   "execution_count": 67,
   "metadata": {},
   "outputs": [],
   "source": [
    "df_posi_dep2 = df_posi_dep2.sort_values(by=['mujeres'], ascending=False)"
   ]
  },
  {
   "cell_type": "markdown",
   "metadata": {},
   "source": [
    "El código del gráfico a continuación "
   ]
  },
  {
   "cell_type": "code",
   "execution_count": 69,
   "metadata": {},
   "outputs": [],
   "source": [
    "x = df_posi_dep2[\"DEPARTAMENTO_CORREGIDO\"]\n",
    "y = df_posi_dep2[\"mujeres\"]\n",
    "explode = np.zeros( len(x) )\n",
    "explode[0:2] = 0.1"
   ]
  },
  {
   "cell_type": "code",
   "execution_count": 71,
   "metadata": {},
   "outputs": [
    {
     "data": {
      "image/png": "[encoded data removed]",
      "text/plain": [
       "<Figure size 1080x504 with 1 Axes>"
      ]
     },
     "metadata": {},
     "output_type": "display_data"
    }
   ],
   "source": [
    "plt.rcParams[\"figure.figsize\"] = (15,7)\n",
    "\n",
    "\n",
    "fig, ax = plt.subplots()\n",
    "ax.pie(y, explode=explode, labels=x, autopct='%1.1f%%',\n",
    "        shadow=True, startangle=90)\n",
    "ax.axis('equal')  # Equal aspect ratio ensures that pie is drawn as a circle.\n",
    "\n",
    "plt.title(\"Proporción de Mujeres Infectadas por regiones excluyendo Lima\")\n",
    "plt.show()\n",
    "\n",
    "fig.savefig('grafico_mujeres_departamental.jpg')"
   ]
  },
  {
   "cell_type": "code",
   "execution_count": null,
   "metadata": {},
   "outputs": [],
   "source": []
  }
 ],
 "metadata": {
  "kernelspec": {
   "display_name": "Python 3",
   "language": "python",
   "name": "python3"
  },
  "language_info": {
   "codemirror_mode": {
    "name": "ipython",
    "version": 3
   },
   "file_extension": ".py",
   "mimetype": "text/x-python",
   "name": "python",
   "nbconvert_exporter": "python",
   "pygments_lexer": "ipython3",
   "version": "3.8.5"
  }
 },
 "nbformat": 4,
 "nbformat_minor": 4
}
